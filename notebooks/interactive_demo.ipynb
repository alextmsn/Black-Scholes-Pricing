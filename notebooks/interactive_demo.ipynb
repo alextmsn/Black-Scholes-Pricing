{
 "cells": [
  {
   "cell_type": "code",
   "execution_count": null,
   "id": "cd34db0f",
   "metadata": {},
   "outputs": [
    {
     "data": {
      "application/vnd.jupyter.widget-view+json": {
       "model_id": "908cfcebcbb9485a81e7fb41308ac9cb",
       "version_major": 2,
       "version_minor": 0
      },
      "text/plain": [
       "interactive(children=(FloatSlider(value=100.0, description='Spot Price (S)', max=150.0, min=50.0, step=1.0), F…"
      ]
     },
     "metadata": {},
     "output_type": "display_data"
    }
   ],
   "source": [
    "# Path setup to import from /black_scholes \n",
    "import sys\n",
    "import os\n",
    "sys.path.append(os.path.abspath(\"..\")) \n",
    "\n",
    "# Imports\n",
    "import numpy as np\n",
    "import matplotlib.pyplot as plt\n",
    "from ipywidgets import interact, FloatSlider, Dropdown\n",
    "from black_scholes.model import BlackScholes  \n",
    "\n",
    "# Interactive Black-Scholes Plot \n",
    "@interact(\n",
    "    S=FloatSlider(value=100, min=50, max=150, step=1, description='Spot Price (S)'),\n",
    "    K=FloatSlider(value=100, min=50, max=150, step=1, description='Strike Price (K)'),\n",
    "    T=FloatSlider(value=1.0, min=0.01, max=2.0, step=0.01, description='Time to Maturity (T)'),\n",
    "    r=FloatSlider(value=0.05, min=0.0, max=0.2, step=0.005, description='Risk-Free Rate (r)'),\n",
    "    sigma=FloatSlider(value=0.2, min=0.01, max=1.0, step=0.01, description='Volatility (σ)'),\n",
    "    option_type=Dropdown(options=['call', 'put'], value='call', description='Option Type')\n",
    ")\n",
    "def plot_black_scholes(S, K, T, r, sigma, option_type):\n",
    "    bs = BlackScholes(S=S, K=K, T=T, r=r, sigma=sigma, option_type=option_type)\n",
    "    print(f\"📈 Option Price: {bs.price():.2f}\")\n",
    "    print(\"📊 Greeks:\", bs.greeks())\n",
    "    bs.plot_option_value()\n"
   ]
  }
 ],
 "metadata": {
  "kernelspec": {
   "display_name": ".venv",
   "language": "python",
   "name": "python3"
  },
  "language_info": {
   "codemirror_mode": {
    "name": "ipython",
    "version": 3
   },
   "file_extension": ".py",
   "mimetype": "text/x-python",
   "name": "python",
   "nbconvert_exporter": "python",
   "pygments_lexer": "ipython3",
   "version": "3.11.0"
  }
 },
 "nbformat": 4,
 "nbformat_minor": 5
}
